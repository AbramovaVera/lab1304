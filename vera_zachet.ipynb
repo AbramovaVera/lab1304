{
  "nbformat": 4,
  "nbformat_minor": 0,
  "metadata": {
    "colab": {
      "provenance": [],
      "authorship_tag": "ABX9TyOHNdN4hDZ+sjDWQZFT2YYT",
      "include_colab_link": true
    },
    "kernelspec": {
      "name": "python3",
      "display_name": "Python 3"
    },
    "language_info": {
      "name": "python"
    }
  },
  "cells": [
    {
      "cell_type": "markdown",
      "metadata": {
        "id": "view-in-github",
        "colab_type": "text"
      },
      "source": [
        "<a href=\"https://colab.research.google.com/github/AbramovaVera/lab1304/blob/main/vera_zachet.ipynb\" target=\"_parent\"><img src=\"https://colab.research.google.com/assets/colab-badge.svg\" alt=\"Open In Colab\"/></a>"
      ]
    },
    {
      "cell_type": "code",
      "execution_count": 10,
      "metadata": {
        "colab": {
          "base_uri": "https://localhost:8080/"
        },
        "id": "RzWCHBTSGV2h",
        "outputId": "535465cf-2917-40ab-f84d-4d9070134f76"
      },
      "outputs": [
        {
          "output_type": "stream",
          "name": "stdout",
          "text": [
            "Решение системы уравнений: x=0.0,y=0.0\n"
          ]
        },
        {
          "output_type": "stream",
          "name": "stderr",
          "text": [
            "/usr/local/lib/python3.10/dist-packages/scipy/optimize/_minpack_py.py:178: RuntimeWarning: The iteration is not making good progress, as measured by the \n",
            "  improvement from the last ten iterations.\n",
            "  warnings.warn(msg, RuntimeWarning)\n"
          ]
        }
      ],
      "source": [
        "import numpy as np\n",
        "from scipy.optimize import fsolve \n",
        "\n",
        "def equations(vars):\n",
        "  x,y=vars\n",
        "  return (y**2-x*y-12, x**2-x*y+3)\n",
        "initial_guess=[0,0]\n",
        "solution=fsolve(equations,initial_guess)\n",
        "print(f\"Решение системы уравнений: x={solution[0]},y={solution[1]}\")"
      ]
    },
    {
      "cell_type": "code",
      "source": [
        "from scipy.optimize import fsolve\n",
        "def y(p):\n",
        "  x,y=p\n",
        "  return (y**2+x*y-12, x**2-x*y+3)\n",
        "x,y=fsolve(y,(0,0))\n",
        "print(x,y)"
      ],
      "metadata": {
        "colab": {
          "base_uri": "https://localhost:8080/"
        },
        "id": "6D7mFmVySa-A",
        "outputId": "fb4f3fe0-fa8c-425e-9e72-bd7aa5c1c5ef"
      },
      "execution_count": 13,
      "outputs": [
        {
          "output_type": "stream",
          "name": "stdout",
          "text": [
            "0.0 0.0\n"
          ]
        }
      ]
    }
  ]
}