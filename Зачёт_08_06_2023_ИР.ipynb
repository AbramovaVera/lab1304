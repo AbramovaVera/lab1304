{
  "nbformat": 4,
  "nbformat_minor": 0,
  "metadata": {
    "colab": {
      "provenance": [],
      "authorship_tag": "ABX9TyPyFQB5ObNru/O4LjYb47fk",
      "include_colab_link": true
    },
    "kernelspec": {
      "name": "python3",
      "display_name": "Python 3"
    },
    "language_info": {
      "name": "python"
    }
  },
  "cells": [
    {
      "cell_type": "markdown",
      "metadata": {
        "id": "view-in-github",
        "colab_type": "text"
      },
      "source": [
        "<a href=\"https://colab.research.google.com/github/AbramovaVera/lab1304/blob/main/%D0%97%D0%B0%D1%87%D1%91%D1%82_08_06_2023_%D0%98%D0%A0.ipynb\" target=\"_parent\"><img src=\"https://colab.research.google.com/assets/colab-badge.svg\" alt=\"Open In Colab\"/></a>"
      ]
    },
    {
      "cell_type": "code",
      "source": [
        "pip install CoolProp"
      ],
      "metadata": {
        "colab": {
          "base_uri": "https://localhost:8080/"
        },
        "id": "-ZrFG4TaIw87",
        "outputId": "527e1f98-57fa-420e-d164-20f6aafdc6a8"
      },
      "execution_count": null,
      "outputs": [
        {
          "output_type": "stream",
          "name": "stdout",
          "text": [
            "Looking in indexes: https://pypi.org/simple, https://us-python.pkg.dev/colab-wheels/public/simple/\n",
            "Collecting CoolProp\n",
            "  Downloading CoolProp-6.4.3.post1-cp310-cp310-manylinux_2_17_x86_64.manylinux2014_x86_64.whl (6.1 MB)\n",
            "\u001b[2K     \u001b[90m━━━━━━━━━━━━━━━━━━━━━━━━━━━━━━━━━━━━━━━━\u001b[0m \u001b[32m6.1/6.1 MB\u001b[0m \u001b[31m97.9 MB/s\u001b[0m eta \u001b[36m0:00:00\u001b[0m\n",
            "\u001b[?25hInstalling collected packages: CoolProp\n",
            "Successfully installed CoolProp-6.4.3.post1\n"
          ]
        }
      ]
    },
    {
      "cell_type": "code",
      "execution_count": null,
      "metadata": {
        "colab": {
          "base_uri": "https://localhost:8080/"
        },
        "id": "v1t35ctGIgMo",
        "outputId": "669cb845-3b42-4eed-c0b9-19f78dd8ef4d"
      },
      "outputs": [
        {
          "output_type": "stream",
          "name": "stdout",
          "text": [
            "999.9740856389598\n"
          ]
        }
      ],
      "source": [
        "import CoolProp.CoolProp as ct\n",
        "import numpy as np\n",
        "Fluid_name=\"Water\"\n",
        "T=277\n",
        "P=100000\n",
        "a=ct.PropsSI(\"D\",'P',P,'T',T,Fluid_name)\n",
        "print(a)\n"
      ]
    },
    {
      "cell_type": "code",
      "source": [
        "from sympy import solve\n",
        "from sympy.abc import x, y\n",
        "solve([x**2-10*x*y+12*y**2-17,x**2-7*x*y+8*y**2-13], [x, y])\n",
        "\n"
      ],
      "metadata": {
        "colab": {
          "base_uri": "https://localhost:8080/"
        },
        "id": "hL_sSH92JcBq",
        "outputId": "9dfcb705-c241-47cf-96ea-89b174127249"
      },
      "execution_count": null,
      "outputs": [
        {
          "output_type": "execute_result",
          "data": {
            "text/plain": [
              "[(-5, -4), (-2, 1/2), (2, -1/2), (5, 4)]"
            ]
          },
          "metadata": {},
          "execution_count": 16
        }
      ]
    },
    {
      "cell_type": "markdown",
      "source": [
        "First eq."
      ],
      "metadata": {
        "id": "HFtW8V09QMfW"
      }
    },
    {
      "cell_type": "code",
      "source": [
        "x=-5\n",
        "y=-4\n",
        "a=x**2-10*x*y+12*y**2\n",
        "print(a)\n",
        "x=-2\n",
        "y=1/2\n",
        "b=x**2-10*x*y+12*y**2\n",
        "print(b)\n",
        "x=2\n",
        "y=-1/2\n",
        "c=x**2-10*x*y+12*y**2\n",
        "print(c)\n",
        "x=5\n",
        "y=4\n",
        "d=x**2-10*x*y+12*y**2\n",
        "print(d)"
      ],
      "metadata": {
        "colab": {
          "base_uri": "https://localhost:8080/"
        },
        "id": "6TkLPtZLPYIH",
        "outputId": "f2932ec8-10ad-4405-a7ca-6c4eb177e397"
      },
      "execution_count": null,
      "outputs": [
        {
          "output_type": "stream",
          "name": "stdout",
          "text": [
            "17\n",
            "17.0\n",
            "17.0\n",
            "17\n"
          ]
        }
      ]
    },
    {
      "cell_type": "markdown",
      "source": [
        "Second eq."
      ],
      "metadata": {
        "id": "XN4viwEuQRr9"
      }
    },
    {
      "cell_type": "code",
      "source": [
        "x=-5\n",
        "y=-4\n",
        "a=x**2-7*x*y+8*y**2\n",
        "print(a)\n",
        "x=-2\n",
        "y=1/2\n",
        "b=x**2-7*x*y+8*y**2\n",
        "print(b)\n",
        "x=2\n",
        "y=-1/2\n",
        "c=x**2-7*x*y+8*y**2\n",
        "print(c)\n",
        "x=5\n",
        "y=4\n",
        "d=x**2-7*x*y+8*y**2\n",
        "print(d)"
      ],
      "metadata": {
        "colab": {
          "base_uri": "https://localhost:8080/"
        },
        "id": "EvOvVIBpQR_V",
        "outputId": "e4f155dd-0359-4053-b7fa-fe86284a3684"
      },
      "execution_count": null,
      "outputs": [
        {
          "output_type": "stream",
          "name": "stdout",
          "text": [
            "13\n",
            "13.0\n",
            "13.0\n",
            "13\n"
          ]
        }
      ]
    }
  ]
}