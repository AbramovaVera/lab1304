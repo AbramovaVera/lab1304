{
  "nbformat": 4,
  "nbformat_minor": 0,
  "metadata": {
    "colab": {
      "provenance": [],
      "authorship_tag": "ABX9TyOY/E3PWHDyG2sMQS+SvAvC",
      "include_colab_link": true
    },
    "kernelspec": {
      "name": "python3",
      "display_name": "Python 3"
    },
    "language_info": {
      "name": "python"
    }
  },
  "cells": [
    {
      "cell_type": "markdown",
      "metadata": {
        "id": "view-in-github",
        "colab_type": "text"
      },
      "source": [
        "<a href=\"https://colab.research.google.com/github/AbramovaVera/lab1304/blob/main/%D0%92%D0%B5%D1%80%D0%B0_lab1304.ipynb\" target=\"_parent\"><img src=\"https://colab.research.google.com/assets/colab-badge.svg\" alt=\"Open In Colab\"/></a>"
      ]
    },
    {
      "cell_type": "markdown",
      "source": [
        "Система уравнений"
      ],
      "metadata": {
        "id": "KP9VxJ9duN_6"
      }
    },
    {
      "cell_type": "code",
      "source": [
        "import numpy as np\n",
        "import matplotlib.pyplot as plt\n",
        "from scipy.optimize import fsolve\n",
        "def y(p):\n",
        "  x,y=p\n",
        "  return (x**2+y*x-10,x*y+y**2+np.sin(x)+7)\n",
        "x,y=fsolve(y,(1,0))\n",
        "print(x,y)"
      ],
      "metadata": {
        "colab": {
          "base_uri": "https://localhost:8080/"
        },
        "id": "IbQJfqHnuSzx",
        "outputId": "7786a739-5747-4731-ffb3-d8a7c505f9f0"
      },
      "execution_count": 3,
      "outputs": [
        {
          "output_type": "stream",
          "name": "stdout",
          "text": [
            "5.031943969696594 -3.0446404424164095\n"
          ]
        }
      ]
    }
  ]
}