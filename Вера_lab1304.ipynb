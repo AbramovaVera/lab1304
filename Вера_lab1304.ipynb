{
  "nbformat": 4,
  "nbformat_minor": 0,
  "metadata": {
    "colab": {
      "provenance": [],
      "authorship_tag": "ABX9TyMSPBiNiuIUVImrHYj6+LYM",
      "include_colab_link": true
    },
    "kernelspec": {
      "name": "python3",
      "display_name": "Python 3"
    },
    "language_info": {
      "name": "python"
    }
  },
  "cells": [
    {
      "cell_type": "markdown",
      "metadata": {
        "id": "view-in-github",
        "colab_type": "text"
      },
      "source": [
        "<a href=\"https://colab.research.google.com/github/AbramovaVera/lab1304/blob/main/%D0%92%D0%B5%D1%80%D0%B0_lab1304.ipynb\" target=\"_parent\"><img src=\"https://colab.research.google.com/assets/colab-badge.svg\" alt=\"Open In Colab\"/></a>"
      ]
    },
    {
      "cell_type": "markdown",
      "source": [
        "Система уравнений"
      ],
      "metadata": {
        "id": "KP9VxJ9duN_6"
      }
    },
    {
      "cell_type": "code",
      "source": [
        "import numpy as np\n",
        "import matplotlib.pyplot as plt\n",
        "from scipy.optimize import fsolve\n",
        "def y(p):\n",
        "  x,y=p\n",
        "  return (x**2+y*x-10,x*y+y**2+np.sin(x)+7)\n",
        "x,y=fsolve(y,(1,0))\n",
        "print(x,y)"
      ],
      "metadata": {
        "colab": {
          "base_uri": "https://localhost:8080/"
        },
        "id": "IbQJfqHnuSzx",
        "outputId": "7786a739-5747-4731-ffb3-d8a7c505f9f0"
      },
      "execution_count": 3,
      "outputs": [
        {
          "output_type": "stream",
          "name": "stdout",
          "text": [
            "5.031943969696594 -3.0446404424164095\n"
          ]
        }
      ]
    },
    {
      "cell_type": "markdown",
      "source": [
        "Функция CoolProp"
      ],
      "metadata": {
        "id": "JbFl6e6Bzg-Z"
      }
    },
    {
      "cell_type": "code",
      "source": [
        "pip install CoolProp"
      ],
      "metadata": {
        "colab": {
          "base_uri": "https://localhost:8080/"
        },
        "id": "JsNFrxx7zngV",
        "outputId": "e6659a46-dfeb-42e2-a74c-ac4d67572d27"
      },
      "execution_count": 4,
      "outputs": [
        {
          "output_type": "stream",
          "name": "stdout",
          "text": [
            "Looking in indexes: https://pypi.org/simple, https://us-python.pkg.dev/colab-wheels/public/simple/\n",
            "Collecting CoolProp\n",
            "  Downloading CoolProp-6.4.3.post1-cp39-cp39-manylinux_2_17_x86_64.manylinux2014_x86_64.whl (6.2 MB)\n",
            "\u001b[2K     \u001b[90m━━━━━━━━━━━━━━━━━━━━━━━━━━━━━━━━━━━━━━━━\u001b[0m \u001b[32m6.2/6.2 MB\u001b[0m \u001b[31m12.4 MB/s\u001b[0m eta \u001b[36m0:00:00\u001b[0m\n",
            "\u001b[?25hInstalling collected packages: CoolProp\n",
            "Successfully installed CoolProp-6.4.3.post1\n"
          ]
        }
      ]
    },
    {
      "cell_type": "code",
      "source": [
        "import CoolProp.CoolProp as ct\n",
        "import matplotlib.pyplot as plt\n",
        "Fluid_name='water'\n",
        "t=np.linspace(274.15,374.15,100)\n",
        "p=101325\n",
        "d=ct.PropsSI('D','P',101325,'T',t,Fluid_name)\n",
        "print(d)\n",
        "plt.plot(t,d)\n",
        "plt.scatter(372,958)\n",
        "plt.grid()\n",
        "plt.title('d от t')\n",
        "plt.xlabel('температура')\n",
        "plt.ylabel('плотность')\n",
        "plt.show()"
      ],
      "metadata": {
        "colab": {
          "base_uri": "https://localhost:8080/",
          "height": 906
        },
        "id": "ecZe8QW40A-i",
        "outputId": "d07ca9e3-6e1c-4a40-8e27-51ab6703be5a"
      },
      "execution_count": 15,
      "outputs": [
        {
          "output_type": "stream",
          "name": "stdout",
          "text": [
            "[9.99901838e+02 9.99943331e+02 9.99967481e+02 9.99974851e+02\n",
            " 9.99965973e+02 9.99941346e+02 9.99901443e+02 9.99846711e+02\n",
            " 9.99777571e+02 9.99694423e+02 9.99597647e+02 9.99487602e+02\n",
            " 9.99364630e+02 9.99229057e+02 9.99081191e+02 9.98921328e+02\n",
            " 9.98749749e+02 9.98566722e+02 9.98372503e+02 9.98167338e+02\n",
            " 9.97951460e+02 9.97725093e+02 9.97488453e+02 9.97241746e+02\n",
            " 9.96985168e+02 9.96718910e+02 9.96443152e+02 9.96158070e+02\n",
            " 9.95863832e+02 9.95560600e+02 9.95248528e+02 9.94927766e+02\n",
            " 9.94598459e+02 9.94260746e+02 9.93914759e+02 9.93560630e+02\n",
            " 9.93198481e+02 9.92828433e+02 9.92450603e+02 9.92065102e+02\n",
            " 9.91672039e+02 9.91271519e+02 9.90863643e+02 9.90448508e+02\n",
            " 9.90026210e+02 9.89596841e+02 9.89160488e+02 9.88717239e+02\n",
            " 9.88267176e+02 9.87810380e+02 9.87346929e+02 9.86876899e+02\n",
            " 9.86400364e+02 9.85917394e+02 9.85428059e+02 9.84932426e+02\n",
            " 9.84430559e+02 9.83922522e+02 9.83408376e+02 9.82888180e+02\n",
            " 9.82361992e+02 9.81829868e+02 9.81291862e+02 9.80748026e+02\n",
            " 9.80198413e+02 9.79643071e+02 9.79082049e+02 9.78515393e+02\n",
            " 9.77943150e+02 9.77365363e+02 9.76782076e+02 9.76193329e+02\n",
            " 9.75599163e+02 9.74999618e+02 9.74394732e+02 9.73784540e+02\n",
            " 9.73169081e+02 9.72548387e+02 9.71922493e+02 9.71291432e+02\n",
            " 9.70655235e+02 9.70013934e+02 9.69367557e+02 9.68716134e+02\n",
            " 9.68059693e+02 9.67398261e+02 9.66731864e+02 9.66060528e+02\n",
            " 9.65384276e+02 9.64703134e+02 9.64017123e+02 9.63326266e+02\n",
            " 9.62630584e+02 9.61930098e+02 9.61224828e+02 9.60514792e+02\n",
            " 9.59800010e+02 9.59080498e+02 5.97629705e-01 5.95884032e-01]\n"
          ]
        },
        {
          "output_type": "display_data",
          "data": {
            "text/plain": [
              "<Figure size 640x480 with 1 Axes>"
            ],
            "image/png": "[encoded data removed]"
          },
          "metadata": {}
        }
      ]
    },
    {
      "cell_type": "code",
      "source": [
        "import CoolProp.CoolProp as ct\n",
        "import matplotlib.pyplot as plt\n",
        "import numpy as np\n",
        "import sympy as smp\n",
        "a,x,V1=smp.symbols('a x V1')\n",
        "smp.init_printing()\n",
        "V1=a**3*(1-2*x)**2*x\n",
        "V1s=smp.diff(V1,x)\n",
        "x1=smp.solve(V1s,x)\n",
        "x1_=[xx.evalf(5) for xx in x1]\n",
        "x1,x1_\n",
        "V11=[V1.subs(x,xx).subs(a,1) for xx in x1]\n",
        "V11_=[V1.subs(x,xx).subs(a,1).evalf(5) for xx in x1]\n",
        "V11,V11_\n",
        "V2=smp.expand(smp.simplify(V1+4*(a*x)**3*(1-2*x)**2*x))"
      ],
      "metadata": {
        "colab": {
          "base_uri": "https://localhost:8080/",
          "height": 58
        },
        "id": "MBPboEAt6Z7h",
        "outputId": "0e6a2b5d-a9f5-4a67-ac07-9f168a0c748e"
      },
      "execution_count": 18,
      "outputs": [
        {
          "output_type": "execute_result",
          "data": {
            "text/plain": [
              "([2/27, 0], [0.074074, 0])"
            ],
            "text/latex": "$\\displaystyle \\left( \\left[ \\frac{2}{27}, \\  0\\right], \\  \\left[ 0.074074, \\  0\\right]\\right)$"
          },
          "metadata": {},
          "execution_count": 18
        }
      ]
    }
  ]
}